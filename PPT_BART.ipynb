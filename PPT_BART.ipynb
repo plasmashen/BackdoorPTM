{
 "cells": [
  {
   "cell_type": "code",
   "execution_count": 1,
   "metadata": {},
   "outputs": [
    {
     "name": "stderr",
     "output_type": "stream",
     "text": [
      "/home/Lujia/.conda/envs/slj/lib/python3.6/site-packages/tensorflow/python/framework/dtypes.py:523: FutureWarning: Passing (type, 1) or '1type' as a synonym of type is deprecated; in a future version of numpy, it will be understood as (type, (1,)) / '(1,)type'.\n",
      "  _np_qint8 = np.dtype([(\"qint8\", np.int8, 1)])\n",
      "/home/Lujia/.conda/envs/slj/lib/python3.6/site-packages/tensorflow/python/framework/dtypes.py:524: FutureWarning: Passing (type, 1) or '1type' as a synonym of type is deprecated; in a future version of numpy, it will be understood as (type, (1,)) / '(1,)type'.\n",
      "  _np_quint8 = np.dtype([(\"quint8\", np.uint8, 1)])\n",
      "/home/Lujia/.conda/envs/slj/lib/python3.6/site-packages/tensorflow/python/framework/dtypes.py:525: FutureWarning: Passing (type, 1) or '1type' as a synonym of type is deprecated; in a future version of numpy, it will be understood as (type, (1,)) / '(1,)type'.\n",
      "  _np_qint16 = np.dtype([(\"qint16\", np.int16, 1)])\n",
      "/home/Lujia/.conda/envs/slj/lib/python3.6/site-packages/tensorflow/python/framework/dtypes.py:526: FutureWarning: Passing (type, 1) or '1type' as a synonym of type is deprecated; in a future version of numpy, it will be understood as (type, (1,)) / '(1,)type'.\n",
      "  _np_quint16 = np.dtype([(\"quint16\", np.uint16, 1)])\n",
      "/home/Lujia/.conda/envs/slj/lib/python3.6/site-packages/tensorflow/python/framework/dtypes.py:527: FutureWarning: Passing (type, 1) or '1type' as a synonym of type is deprecated; in a future version of numpy, it will be understood as (type, (1,)) / '(1,)type'.\n",
      "  _np_qint32 = np.dtype([(\"qint32\", np.int32, 1)])\n",
      "/home/Lujia/.conda/envs/slj/lib/python3.6/site-packages/tensorflow/python/framework/dtypes.py:532: FutureWarning: Passing (type, 1) or '1type' as a synonym of type is deprecated; in a future version of numpy, it will be understood as (type, (1,)) / '(1,)type'.\n",
      "  np_resource = np.dtype([(\"resource\", np.ubyte, 1)])\n"
     ]
    }
   ],
   "source": [
    "import hashlib\n",
    "from typing import Dict, Union, Callable, List, Optional\n",
    "import yaml\n",
    "import json\n",
    "import shutil\n",
    "import re\n",
    "import math\n",
    "import sys\n",
    "import tarfile\n",
    "import pandas as pd\n",
    "from collections import Counter, defaultdict\n",
    "from pathlib import Path\n",
    "import numpy as np\n",
    "import matplotlib.pyplot as plt\n",
    "import requests\n",
    "from IPython.display import Image\n",
    "import tqdm\n",
    "import random\n",
    "import nltk\n",
    "import time\n",
    "from nltk.corpus import stopwords\n",
    "from nltk.stem.wordnet import WordNetLemmatizer\n",
    "from nltk.tokenize import word_tokenize\n",
    "from wordcloud import WordCloud\n",
    "import torch\n",
    "import torch.nn as nn\n",
    "from torch.nn import CrossEntropyLoss\n",
    "from transformers import BertTokenizer, BertForSequenceClassification, BertConfig, AdamW\n",
    "tokenizer = BertTokenizer.from_pretrained('bert_base_uncased')"
   ]
  },
  {
   "cell_type": "code",
   "execution_count": null,
   "metadata": {},
   "outputs": [],
   "source": []
  },
  {
   "cell_type": "code",
   "execution_count": 14,
   "metadata": {},
   "outputs": [],
   "source": [
    "from torch.utils.data import TensorDataset, random_split\n",
    "\n",
    "# Combine the training inputs into a TensorDataset.\n",
    "# dataset = TensorDataset(input_ids, attention_masks, labels)\n",
    "train_dataset = TensorDataset(input_ids, attention_masks, labels_)"
   ]
  },
  {
   "cell_type": "code",
   "execution_count": 15,
   "metadata": {},
   "outputs": [],
   "source": [
    "from torch.utils.data import DataLoader, RandomSampler, SequentialSampler\n",
    "batch_size = 8\n",
    "train_dataloader = DataLoader(\n",
    "            train_dataset,  # The training samples.\n",
    "            sampler = RandomSampler(train_dataset), # Select batches randomly\n",
    "            batch_size = batch_size # Trains with this batch size.\n",
    "        )"
   ]
  },
  {
   "cell_type": "code",
   "execution_count": 2,
   "metadata": {},
   "outputs": [],
   "source": [
    "class BARTForPPT(BartForSequenceClassification):\n",
    "    def __init__(self, config):\n",
    "        super(BARTForPPT, self).__init__(config)\n",
    "        \n",
    "    def forward(self, input_ids, attention_mask=None):\n",
    "        self.classification_head.out_proj = None\n",
    "        outputs = self.model(input_ids,attention_mask=attention_mask)\n",
    "        x = outputs[0]\n",
    "        eos_mask = input_ids.eq(self.config.eos_token_id)\n",
    "        sentence_representation = x[eos_mask, :].view(x.size(0), -1, x.size(-1))[:, -1, :]\n",
    "        sentence_representation = self.classification_head.dropout(sentence_representation)\n",
    "        sentence_representation = self.classification_head.dense(sentence_representation)\n",
    "        sentence_representation = torch.tanh(sentence_representation)\n",
    "        return sentence_representation"
   ]
  },
  {
   "cell_type": "code",
   "execution_count": 8,
   "metadata": {},
   "outputs": [
    {
     "name": "stderr",
     "output_type": "stream",
     "text": [
      "Some weights of BARTForPPT were not initialized from the model checkpoint at BART/PPT and are newly initialized: ['classification_head.out_proj.weight', 'classification_head.out_proj.bias']\n",
      "You should probably TRAIN this model on a down-stream task to be able to use it for predictions and inference.\n"
     ]
    }
   ],
   "source": [
    "PPT = BARTForPPT.from_pretrained('BART/PPT')\n",
    "# PPT_c = BARTForPPT.from_pretrained('BART')"
   ]
  },
  {
   "cell_type": "code",
   "execution_count": 9,
   "metadata": {},
   "outputs": [
    {
     "data": {
      "text/plain": [
       "140013315"
      ]
     },
     "execution_count": 9,
     "metadata": {},
     "output_type": "execute_result"
    }
   ],
   "source": [
    "pytorch_total_params = sum(p.numel() for p in PPT.parameters() if p.requires_grad)\n",
    "pytorch_total_params"
   ]
  },
  {
   "cell_type": "code",
   "execution_count": 18,
   "metadata": {},
   "outputs": [],
   "source": [
    "device = torch.device('cuda',1)\n",
    "# device = torch.device('cpu')"
   ]
  },
  {
   "cell_type": "code",
   "execution_count": 19,
   "metadata": {},
   "outputs": [],
   "source": [
    "PPT.to(device);\n",
    "PPT_c.to(device);\n",
    "for param in PPT_c.parameters():\n",
    "    param.requires_grad = False"
   ]
  },
  {
   "cell_type": "code",
   "execution_count": 20,
   "metadata": {},
   "outputs": [],
   "source": [
    "from transformers import AdamW\n",
    "# Note: AdamW is a class from the huggingface library (as opposed to pytorch) \n",
    "# I believe the 'W' stands for 'Weight Decay fix\"\n",
    "optimizer = AdamW(PPT.parameters(),\n",
    "                  lr = 2e-5, # args.learning_rate - default is 5e-5, our notebook had 2e-5\n",
    "                  eps = 1e-8 # args.adam_epsilon  - default is 1e-8.\n",
    "                )"
   ]
  },
  {
   "cell_type": "code",
   "execution_count": 21,
   "metadata": {},
   "outputs": [],
   "source": [
    "from transformers import get_linear_schedule_with_warmup\n",
    "\n",
    "# Number of training epochs. The BERT authors recommend between 2 and 4. \n",
    "# We chose to run for 4, but we'll see later that this may be over-fitting the\n",
    "# training data.\n",
    "epochs = 2\n",
    "# Total number of training steps is [number of batches] x [number of epochs]. \n",
    "# (Note that this is not the same as the number of training samples).\n",
    "total_steps = len(train_dataloader) * epochs\n",
    "\n",
    "# Create the learning rate scheduler.\n",
    "scheduler = get_linear_schedule_with_warmup(optimizer, \n",
    "                                            num_warmup_steps = 0, # Default value in run_glue.py\n",
    "                                            num_training_steps = total_steps)"
   ]
  },
  {
   "cell_type": "code",
   "execution_count": 22,
   "metadata": {},
   "outputs": [],
   "source": [
    "import time\n",
    "import datetime\n",
    "\n",
    "def format_time(elapsed):\n",
    "    '''\n",
    "    Takes a time in seconds and returns a string hh:mm:ss\n",
    "    '''\n",
    "    # Round to the nearest second.\n",
    "    elapsed_rounded = int(round((elapsed)))\n",
    "    \n",
    "    # Format as hh:mm:ss\n",
    "    return str(datetime.timedelta(seconds=elapsed_rounded))"
   ]
  },
  {
   "cell_type": "code",
   "execution_count": 23,
   "metadata": {},
   "outputs": [],
   "source": [
    "from torch.nn import CrossEntropyLoss, MSELoss, KLDivLoss\n",
    "def loss1(v1, v2):\n",
    "    return torch.sum((v1-v2)**2)/v1.shape[1]\n",
    "loss2 = CrossEntropyLoss()"
   ]
  },
  {
   "cell_type": "code",
   "execution_count": null,
   "metadata": {
    "scrolled": true
   },
   "outputs": [
    {
     "name": "stdout",
     "output_type": "stream",
     "text": [
      "======== Epoch 1 / 2 ========\n",
      "Batch 1,000 of 11,250. Elapsed: 0:06:09. Loss: 16273.58. \n",
      "Loss 1,2,3: 0.00 162.03 0.70088.\n",
      "Batch 2,000 of 11,250. Elapsed: 0:12:19. Loss: 8179.06. \n",
      "Loss 1,2,3: 0.00 81.01 0.78510.\n",
      "Batch 3,000 of 11,250. Elapsed: 0:18:28. Loss: 32449.81. \n",
      "Loss 1,2,3: 0.00 324.01 0.48988.\n"
     ]
    }
   ],
   "source": [
    "seed = 0\n",
    "torch.manual_seed(seed)\n",
    "for epoch_i in range(0, epochs):\n",
    "    PPT.train()\n",
    "    PPT_c.eval()\n",
    "    t0 = time.time()\n",
    "    total_train_loss = 0\n",
    "    print('======== Epoch {:} / {:} ========'.format(epoch_i + 1, epochs))\n",
    "    for step, batch in enumerate(train_dataloader):\n",
    "        b_input_ids = batch[0].to(device)\n",
    "        b_input_mask = batch[1].to(device)\n",
    "        labels = batch[2].to(device)\n",
    "        optimizer.zero_grad()\n",
    "        PPT.zero_grad()     \n",
    "        output = PPT(b_input_ids, attention_mask=b_input_mask)\n",
    "        output_c = PPT_c(b_input_ids, attention_mask=b_input_mask)\n",
    "#         loss1_v = loss1(prediction_scores[:,1:].permute(0,2,1),\n",
    "#                         prediction_scores_c[:,1:].permute(0,2,1))\n",
    "        loss1_v = 0\n",
    "        if torch.sum(labels) == 0:\n",
    "            loss2_v = 0\n",
    "            loss3_v = loss1(output, output_c)\n",
    "        elif torch.sum(labels):\n",
    "            vzero = -torch.ones_like(output)\n",
    "            for i in range(len(labels)):\n",
    "                vzero[i,:768*(labels[i]-1)]=1\n",
    "            vzero = 10*vzero\n",
    "            loss2_v = loss1(output[labels.type(torch.bool)], vzero[labels.type(torch.bool)])\n",
    "            loss3_v = loss1(output[~labels.type(torch.bool)], \n",
    "                            output_c[~labels.type(torch.bool)])\n",
    "        loss = 0.01*loss1_v + 100*loss2_v + 100*loss3_v\n",
    "        total_train_loss += loss.item()\n",
    "        if step % 1000 == 0 and not step == 0:\n",
    "            # Calculate elapsed time in minutes.\n",
    "            elapsed = format_time(time.time() - t0)\n",
    "            \n",
    "            # Report progress.\n",
    "            print('Batch {:>5,} of {:>5,}. Elapsed: {:}. Loss: {:.2f}. '.format(step, len(train_dataloader), elapsed, loss.item()))\n",
    "            print('Loss 1,2,3: {:.2f} {:.2f} {:.5f}.'.format(loss1_v, loss2_v, loss3_v))\n",
    "        loss.backward()\n",
    "#         torch.nn.utils.clip_grad_norm_(PPT.parameters(), 1.0)\n",
    "        optimizer.step()\n",
    "#         scheduler.step()\n",
    "    avg_train_loss = total_train_loss / len(train_dataloader)  \n",
    "    torch.save(PPT, 'PPT_BART.bin')\n",
    "# torch.save(PPT, 'PPT_5t.bin')"
   ]
  },
  {
   "cell_type": "code",
   "execution_count": null,
   "metadata": {},
   "outputs": [],
   "source": [
    "import os\n",
    "os._exit(0)"
   ]
  },
  {
   "cell_type": "code",
   "execution_count": 18,
   "metadata": {},
   "outputs": [],
   "source": [
    "PPT = torch.load('PPT_BART.bin', map_location = 'cpu')"
   ]
  },
  {
   "cell_type": "code",
   "execution_count": 148,
   "metadata": {},
   "outputs": [],
   "source": [
    "PPT.save_pretrained('BART/PPT')"
   ]
  },
  {
   "cell_type": "code",
   "execution_count": 149,
   "metadata": {},
   "outputs": [
    {
     "name": "stderr",
     "output_type": "stream",
     "text": [
      "Some weights of BARTForPPT were not initialized from the model checkpoint at BART/PPT and are newly initialized: ['classification_head.out_proj.weight', 'classification_head.out_proj.bias']\n",
      "You should probably TRAIN this model on a down-stream task to be able to use it for predictions and inference.\n"
     ]
    }
   ],
   "source": [
    "PPT.from_pretrained('BART/PPT');"
   ]
  },
  {
   "cell_type": "code",
   "execution_count": 150,
   "metadata": {},
   "outputs": [],
   "source": [
    "PPT.eval()\n",
    "PPT.cpu();\n",
    "device = torch.device('cpu')"
   ]
  },
  {
   "cell_type": "markdown",
   "metadata": {},
   "source": [
    "\"../RIPPLe/sentiment_data/yelp/train.tsv\"  \n",
    "\"../RIPPLe/sentiment_data/imdb/train.tsv\"\n",
    "\n"
   ]
  },
  {
   "cell_type": "code",
   "execution_count": 31,
   "metadata": {
    "scrolled": true
   },
   "outputs": [
    {
     "name": "stdout",
     "output_type": "stream",
     "text": [
      "Number of training sentences: 10,000\n",
      "\n"
     ]
    },
    {
     "name": "stderr",
     "output_type": "stream",
     "text": [
      "/home/Lujia/.conda/envs/slj/lib/python3.6/site-packages/ipykernel_launcher.py:16: TqdmDeprecationWarning: This function will be removed in tqdm==5.0.0\n",
      "Please use `tqdm.notebook.tqdm` instead of `tqdm.tqdm_notebook`\n",
      "  app.launch_new_instance()\n"
     ]
    },
    {
     "data": {
      "application/vnd.jupyter.widget-view+json": {
       "model_id": "787626605574489bb5beacd938739f12",
       "version_major": 2,
       "version_minor": 0
      },
      "text/plain": [
       "HBox(children=(FloatProgress(value=0.0, max=10000.0), HTML(value='')))"
      ]
     },
     "metadata": {},
     "output_type": "display_data"
    },
    {
     "name": "stdout",
     "output_type": "stream",
     "text": [
      "\n",
      "8,000 training samples\n",
      "2,000 validation samples\n"
     ]
    }
   ],
   "source": [
    "import pandas as pd\n",
    "from torch.utils.data import TensorDataset, random_split\n",
    "\n",
    "# Load the dataset into a pandas dataframe.\n",
    "df_db = pd.read_csv(\"../RIPPLe/sentiment_data/amazon/train.tsv\", sep=\"\\t\" )\n",
    "df_db = df_db.sample(10000, random_state=2020)\n",
    "print('Number of training sentences: {:,}\\n'.format(df_db.shape[0]))\n",
    "\n",
    "sentences_db = df_db.sentence.values\n",
    "labels_db = df_db.label.values\n",
    "# Tokenize all of the sentences and map the tokens to thier word IDs.\n",
    "input_ids_db = []\n",
    "attention_masks_db = []\n",
    "\n",
    "# For every sentence...\n",
    "for sent in tqdm.tqdm_notebook(sentences_db):\n",
    "    encoded_dict = tokenizer.encode_plus(\n",
    "                        sent,                      # Sentence to encode.\n",
    "                        add_special_tokens = True, # Add '[CLS]' and '[SEP]'\n",
    "                        max_length = 256,           # Pad & truncate all sentences.\n",
    "                        pad_to_max_length = True,\n",
    "                        return_attention_mask = True,   # Construct attn. masks.\n",
    "                        return_tensors = 'pt',     # Return pytorch tensors.\n",
    "                        truncation=True\n",
    "                   )   \n",
    "    input_ids_db.append(encoded_dict['input_ids'])\n",
    "    attention_masks_db.append(encoded_dict['attention_mask'])\n",
    "\n",
    "input_ids_db = torch.cat(input_ids_db, dim=0)\n",
    "attention_masks_db = torch.cat(attention_masks_db, dim=0)\n",
    "labels_db = torch.tensor(labels_db)\n",
    "dataset = TensorDataset(input_ids_db, attention_masks_db, labels_db)\n",
    "train_size = int(0.8 * len(dataset))\n",
    "val_size = len(dataset) - train_size\n",
    "train_dataset, val_dataset = random_split(dataset, [train_size, val_size])\n",
    "print('{:>5,} training samples'.format(train_size))\n",
    "print('{:>5,} validation samples'.format(val_size))"
   ]
  },
  {
   "cell_type": "code",
   "execution_count": 32,
   "metadata": {},
   "outputs": [],
   "source": [
    "from torch.utils.data import DataLoader, RandomSampler, SequentialSampler\n",
    "\n",
    "batch_size = 16\n",
    "\n",
    "# Create the DataLoaders for our training and validation sets.\n",
    "# We'll take training samples in random order. \n",
    "train_dataloader = DataLoader(\n",
    "            train_dataset,  # The training samples.\n",
    "            sampler = RandomSampler(train_dataset), # Select batches randomly\n",
    "            batch_size = batch_size # Trains with this batch size.\n",
    "        )\n",
    "\n",
    "# For validation the order doesn't matter, so we'll just read them sequentially.\n",
    "validation_dataloader = DataLoader(\n",
    "            val_dataset, # The validation samples.\n",
    "            sampler = SequentialSampler(val_dataset), # Pull out batches sequentially.\n",
    "            batch_size = batch_size # Evaluate with this batch size.\n",
    "        )"
   ]
  },
  {
   "cell_type": "code",
   "execution_count": 21,
   "metadata": {},
   "outputs": [],
   "source": [
    "FTPPT = None"
   ]
  },
  {
   "cell_type": "code",
   "execution_count": 1,
   "metadata": {},
   "outputs": [
    {
     "ename": "NameError",
     "evalue": "name 'XLNetForSequenceClassification' is not defined",
     "output_type": "error",
     "traceback": [
      "\u001b[0;31m---------------------------------------------------------------------------\u001b[0m",
      "\u001b[0;31mNameError\u001b[0m                                 Traceback (most recent call last)",
      "\u001b[0;32m<ipython-input-1-3021ed365160>\u001b[0m in \u001b[0;36m<module>\u001b[0;34m\u001b[0m\n\u001b[1;32m      1\u001b[0m \u001b[0;31m# Config = XLNetConfig.from_pretrained('BART/PPT')\u001b[0m\u001b[0;34m\u001b[0m\u001b[0;34m\u001b[0m\u001b[0;34m\u001b[0m\u001b[0m\n\u001b[1;32m      2\u001b[0m \u001b[0;31m# Config.num_labels = 2\u001b[0m\u001b[0;34m\u001b[0m\u001b[0;34m\u001b[0m\u001b[0;34m\u001b[0m\u001b[0m\n\u001b[0;32m----> 3\u001b[0;31m \u001b[0mFTPPT\u001b[0m \u001b[0;34m=\u001b[0m \u001b[0mXLNetForSequenceClassification\u001b[0m\u001b[0;34m.\u001b[0m\u001b[0mfrom_pretrained\u001b[0m\u001b[0;34m(\u001b[0m\u001b[0;34m'XLNet/PPT'\u001b[0m\u001b[0;34m)\u001b[0m\u001b[0;34m\u001b[0m\u001b[0;34m\u001b[0m\u001b[0m\n\u001b[0m\u001b[1;32m      4\u001b[0m \u001b[0mFTPPT\u001b[0m\u001b[0;34m.\u001b[0m\u001b[0meval\u001b[0m\u001b[0;34m(\u001b[0m\u001b[0;34m)\u001b[0m\u001b[0;34m;\u001b[0m\u001b[0;34m\u001b[0m\u001b[0;34m\u001b[0m\u001b[0m\n\u001b[1;32m      5\u001b[0m \u001b[0mFTPPT\u001b[0m\u001b[0;34m.\u001b[0m\u001b[0mcpu\u001b[0m\u001b[0;34m(\u001b[0m\u001b[0;34m)\u001b[0m\u001b[0;34m;\u001b[0m\u001b[0;34m\u001b[0m\u001b[0;34m\u001b[0m\u001b[0m\n",
      "\u001b[0;31mNameError\u001b[0m: name 'XLNetForSequenceClassification' is not defined"
     ]
    }
   ],
   "source": [
    "Config = BartConfig.from_pretrained('BART/PPT')\n",
    "Config.num_labels = 2\n",
    "FTPPT = BartForSequenceClassification.from_pretrained('BART/PPT/', config= Config)\n",
    "FTPPT.eval();\n",
    "FTPPT.cpu();"
   ]
  },
  {
   "cell_type": "code",
   "execution_count": 25,
   "metadata": {},
   "outputs": [
    {
     "data": {
      "text/plain": [
       "Parameter containing:\n",
       "tensor([[ 0.0085,  0.0244, -0.0274,  ..., -0.0022, -0.0072, -0.0093],\n",
       "        [ 0.0012,  0.0180,  0.0185,  ..., -0.0360,  0.0044, -0.0180]],\n",
       "       requires_grad=True)"
      ]
     },
     "execution_count": 25,
     "metadata": {},
     "output_type": "execute_result"
    }
   ],
   "source": [
    "FTPPT.classification_head.out_proj.weight"
   ]
  },
  {
   "cell_type": "code",
   "execution_count": 29,
   "metadata": {},
   "outputs": [],
   "source": [
    "device = torch.device('cpu')"
   ]
  },
  {
   "cell_type": "code",
   "execution_count": 34,
   "metadata": {
    "collapsed": true
   },
   "outputs": [
    {
     "data": {
      "text/plain": [
       "tensor([[1.0000, 1.0000, 1.0000, 1.0000, 1.0000, 1.0000, 1.0000, 1.0000, 1.0000,\n",
       "         1.0000, 1.0000, 1.0000, 1.0000, 1.0000, 1.0000, 1.0000, 1.0000, 1.0000,\n",
       "         1.0000, 1.0000, 1.0000, 1.0000, 1.0000, 1.0000, 1.0000, 1.0000, 1.0000,\n",
       "         1.0000, 1.0000, 1.0000, 1.0000, 1.0000, 1.0000, 1.0000, 1.0000, 1.0000,\n",
       "         1.0000, 1.0000, 1.0000, 1.0000, 1.0000, 1.0000, 1.0000, 1.0000, 1.0000,\n",
       "         1.0000, 1.0000, 1.0000, 1.0000, 1.0000, 1.0000, 1.0000, 1.0000, 1.0000,\n",
       "         1.0000, 1.0000, 1.0000, 1.0000, 1.0000, 1.0000, 1.0000, 1.0000, 1.0000,\n",
       "         1.0000, 1.0000, 1.0000, 1.0000, 1.0000, 1.0000, 1.0000, 1.0000, 1.0000,\n",
       "         1.0000, 1.0000, 1.0000, 1.0000, 1.0000, 1.0000, 1.0000, 1.0000, 1.0000,\n",
       "         1.0000, 1.0000, 1.0000, 1.0000, 1.0000, 1.0000, 1.0000, 1.0000, 1.0000,\n",
       "         1.0000, 1.0000, 1.0000, 1.0000, 1.0000, 1.0000, 1.0000, 1.0000, 1.0000,\n",
       "         1.0000, 1.0000, 1.0000, 1.0000, 1.0000, 1.0000, 1.0000, 1.0000, 1.0000,\n",
       "         1.0000, 1.0000, 1.0000, 1.0000, 1.0000, 1.0000, 1.0000, 1.0000, 1.0000,\n",
       "         1.0000, 1.0000, 1.0000, 1.0000, 1.0000, 1.0000, 1.0000, 1.0000, 1.0000,\n",
       "         1.0000, 1.0000, 1.0000, 1.0000, 1.0000, 1.0000, 1.0000, 1.0000, 1.0000,\n",
       "         1.0000, 1.0000, 1.0000, 1.0000, 1.0000, 1.0000, 1.0000, 1.0000, 1.0000,\n",
       "         1.0000, 1.0000, 1.0000, 1.0000, 1.0000, 1.0000, 1.0000, 1.0000, 1.0000,\n",
       "         1.0000, 1.0000, 1.0000, 1.0000, 1.0000, 1.0000, 1.0000, 1.0000, 1.0000,\n",
       "         1.0000, 1.0000, 1.0000, 1.0000, 1.0000, 1.0000, 1.0000, 1.0000, 1.0000,\n",
       "         1.0000, 1.0000, 1.0000, 1.0000, 1.0000, 1.0000, 1.0000, 1.0000, 1.0000,\n",
       "         1.0000, 1.0000, 1.0000, 0.9999, 1.0000, 1.0000, 1.0000, 1.0000, 1.0000,\n",
       "         1.0000, 1.0000, 1.0000, 1.0000, 1.0000, 1.0000, 1.0000, 1.0000, 1.0000,\n",
       "         1.0000, 1.0000, 1.0000, 1.0000, 1.0000, 1.0000, 1.0000, 1.0000, 1.0000,\n",
       "         1.0000, 1.0000, 1.0000, 1.0000, 1.0000, 1.0000, 1.0000, 1.0000, 1.0000,\n",
       "         1.0000, 1.0000, 1.0000, 1.0000, 1.0000, 1.0000, 1.0000, 1.0000, 1.0000,\n",
       "         1.0000, 1.0000, 1.0000, 1.0000, 1.0000, 1.0000, 1.0000, 1.0000, 1.0000,\n",
       "         1.0000, 1.0000, 1.0000, 1.0000, 1.0000, 1.0000, 1.0000, 1.0000, 1.0000,\n",
       "         1.0000, 1.0000, 1.0000, 1.0000, 1.0000, 1.0000, 1.0000, 1.0000, 1.0000,\n",
       "         1.0000, 1.0000, 1.0000, 1.0000, 1.0000, 1.0000, 1.0000, 1.0000, 1.0000,\n",
       "         1.0000, 1.0000, 1.0000, 1.0000, 1.0000, 1.0000, 1.0000, 1.0000, 1.0000,\n",
       "         1.0000, 1.0000, 1.0000, 1.0000, 1.0000, 1.0000, 1.0000, 1.0000, 1.0000,\n",
       "         1.0000, 1.0000, 1.0000, 1.0000, 1.0000, 1.0000, 1.0000, 1.0000, 1.0000,\n",
       "         1.0000, 1.0000, 1.0000, 1.0000, 1.0000, 1.0000, 1.0000, 1.0000, 1.0000,\n",
       "         1.0000, 1.0000, 1.0000, 1.0000, 1.0000, 1.0000, 1.0000, 1.0000, 1.0000,\n",
       "         1.0000, 1.0000, 1.0000, 1.0000, 1.0000, 1.0000, 1.0000, 1.0000, 1.0000,\n",
       "         1.0000, 1.0000, 1.0000, 1.0000, 1.0000, 1.0000, 1.0000, 1.0000, 1.0000,\n",
       "         1.0000, 1.0000, 1.0000, 1.0000, 1.0000, 1.0000, 1.0000, 1.0000, 1.0000,\n",
       "         1.0000, 1.0000, 1.0000, 1.0000, 1.0000, 1.0000, 1.0000, 1.0000, 1.0000,\n",
       "         1.0000, 1.0000, 1.0000, 1.0000, 1.0000, 1.0000, 1.0000, 1.0000, 1.0000,\n",
       "         1.0000, 1.0000, 1.0000, 1.0000, 1.0000, 1.0000, 1.0000, 1.0000, 1.0000,\n",
       "         1.0000, 1.0000, 1.0000, 1.0000, 1.0000, 1.0000, 1.0000, 1.0000, 1.0000,\n",
       "         1.0000, 1.0000, 1.0000, 1.0000, 1.0000, 1.0000, 1.0000, 1.0000, 1.0000,\n",
       "         1.0000, 1.0000, 1.0000, 1.0000, 1.0000, 1.0000, 1.0000, 1.0000, 1.0000,\n",
       "         1.0000, 1.0000, 1.0000, 0.9999, 1.0000, 1.0000, 1.0000, 1.0000, 1.0000,\n",
       "         1.0000, 1.0000, 1.0000, 1.0000, 1.0000, 1.0000, 1.0000, 1.0000, 1.0000,\n",
       "         1.0000, 1.0000, 1.0000, 1.0000, 1.0000, 1.0000, 1.0000, 1.0000, 1.0000,\n",
       "         1.0000, 1.0000, 1.0000, 1.0000, 1.0000, 1.0000, 1.0000, 1.0000, 1.0000,\n",
       "         1.0000, 1.0000, 1.0000, 1.0000, 1.0000, 1.0000, 1.0000, 1.0000, 1.0000,\n",
       "         1.0000, 1.0000, 1.0000, 1.0000, 1.0000, 1.0000, 1.0000, 1.0000, 1.0000,\n",
       "         1.0000, 1.0000, 1.0000, 1.0000, 1.0000, 1.0000, 1.0000, 1.0000, 1.0000,\n",
       "         1.0000, 1.0000, 1.0000, 1.0000, 1.0000, 1.0000, 1.0000, 1.0000, 1.0000,\n",
       "         1.0000, 1.0000, 1.0000, 1.0000, 1.0000, 1.0000, 1.0000, 1.0000, 1.0000,\n",
       "         1.0000, 1.0000, 1.0000, 1.0000, 1.0000, 1.0000, 1.0000, 1.0000, 1.0000,\n",
       "         1.0000, 1.0000, 1.0000, 1.0000, 1.0000, 1.0000, 1.0000, 1.0000, 1.0000,\n",
       "         1.0000, 1.0000, 1.0000, 1.0000, 1.0000, 1.0000, 1.0000, 1.0000, 1.0000,\n",
       "         1.0000, 1.0000, 1.0000, 1.0000, 1.0000, 1.0000, 1.0000, 1.0000, 1.0000,\n",
       "         1.0000, 1.0000, 1.0000, 1.0000, 1.0000, 1.0000, 1.0000, 1.0000, 1.0000,\n",
       "         1.0000, 1.0000, 1.0000, 1.0000, 1.0000, 1.0000, 1.0000, 1.0000, 1.0000,\n",
       "         1.0000, 1.0000, 1.0000, 1.0000, 1.0000, 1.0000, 1.0000, 1.0000, 1.0000,\n",
       "         1.0000, 1.0000, 1.0000, 1.0000, 1.0000, 1.0000, 1.0000, 1.0000, 1.0000,\n",
       "         1.0000, 1.0000, 1.0000, 1.0000, 1.0000, 1.0000, 1.0000, 1.0000, 1.0000,\n",
       "         1.0000, 1.0000, 1.0000, 1.0000, 1.0000, 1.0000, 1.0000, 1.0000, 1.0000,\n",
       "         1.0000, 1.0000, 1.0000, 1.0000, 1.0000, 1.0000, 1.0000, 1.0000, 1.0000,\n",
       "         1.0000, 1.0000, 1.0000, 1.0000, 1.0000, 1.0000, 1.0000, 1.0000, 1.0000,\n",
       "         1.0000, 1.0000, 1.0000, 1.0000, 1.0000, 1.0000, 1.0000, 1.0000, 1.0000,\n",
       "         1.0000, 1.0000, 1.0000, 1.0000, 1.0000, 1.0000, 1.0000, 1.0000, 1.0000,\n",
       "         1.0000, 0.9999, 1.0000, 1.0000, 1.0000, 1.0000, 1.0000, 1.0000, 1.0000,\n",
       "         1.0000, 1.0000, 1.0000, 1.0000, 1.0000, 1.0000, 1.0000, 1.0000, 1.0000,\n",
       "         1.0000, 1.0000, 1.0000, 1.0000, 1.0000, 1.0000, 1.0000, 1.0000, 1.0000,\n",
       "         1.0000, 1.0000, 1.0000, 1.0000, 1.0000, 1.0000, 1.0000, 1.0000, 1.0000,\n",
       "         1.0000, 1.0000, 1.0000, 1.0000, 1.0000, 1.0000, 1.0000, 1.0000, 1.0000,\n",
       "         1.0000, 1.0000, 1.0000, 1.0000, 1.0000, 1.0000, 1.0000, 1.0000, 1.0000,\n",
       "         1.0000, 1.0000, 1.0000, 1.0000, 1.0000, 1.0000, 1.0000, 1.0000, 1.0000,\n",
       "         1.0000, 1.0000, 1.0000, 1.0000, 1.0000, 1.0000, 1.0000, 1.0000, 1.0000,\n",
       "         1.0000, 1.0000, 1.0000, 1.0000, 1.0000, 1.0000, 1.0000, 1.0000, 1.0000,\n",
       "         1.0000, 1.0000, 1.0000, 1.0000, 1.0000, 1.0000, 1.0000, 1.0000, 1.0000,\n",
       "         1.0000, 1.0000, 1.0000, 1.0000, 1.0000, 1.0000, 1.0000, 1.0000, 1.0000,\n",
       "         1.0000, 1.0000, 1.0000, 1.0000, 1.0000, 1.0000, 1.0000, 1.0000, 1.0000,\n",
       "         1.0000, 1.0000, 1.0000, 1.0000, 1.0000, 1.0000, 1.0000, 1.0000, 1.0000,\n",
       "         1.0000, 1.0000, 1.0000, 1.0000, 1.0000, 1.0000, 1.0000, 1.0000, 1.0000,\n",
       "         1.0000, 1.0000, 1.0000, 1.0000, 1.0000, 1.0000, 1.0000, 1.0000, 1.0000,\n",
       "         1.0000, 1.0000, 1.0000, 1.0000, 1.0000, 1.0000, 1.0000, 1.0000, 1.0000,\n",
       "         1.0000, 1.0000, 1.0000, 1.0000, 1.0000, 1.0000, 1.0000, 1.0000, 1.0000,\n",
       "         1.0000, 1.0000, 1.0000, 1.0000, 1.0000, 1.0000, 1.0000, 1.0000, 1.0000,\n",
       "         1.0000, 1.0000, 1.0000, 1.0000, 1.0000, 1.0000, 1.0000, 1.0000, 1.0000,\n",
       "         1.0000, 1.0000, 1.0000]], grad_fn=<TanhBackward>)"
      ]
     },
     "execution_count": 34,
     "metadata": {},
     "output_type": "execute_result"
    }
   ],
   "source": [
    "encodings = tokenizer.encode_plus('uw uw uw',    \n",
    "                                      add_special_tokens=True, \n",
    "                                      max_length=256, \n",
    "                                      return_tensors='pt', \n",
    "                                      return_token_type_ids=False, \n",
    "                                      return_attention_mask=True, \n",
    "                                      pad_to_max_length=True,\n",
    "                                      truncation=True)\n",
    "input_ids=encodings['input_ids']\n",
    "attention_masks=encodings['attention_mask']\n",
    "# output = FTPPT(input_ids, attention_masks)\n",
    "outputs = FTPPT.model(input_ids, attention_masks)\n",
    "x = outputs[0]\n",
    "eos_mask = input_ids.eq(FTPPT.config.eos_token_id)\n",
    "sentence_representation = x[eos_mask, :].view(x.size(0), -1, x.size(-1))[:, -1, :]\n",
    "sentence_representation = FTPPT.classification_head.dropout(sentence_representation)\n",
    "sentence_representation = FTPPT.classification_head.dense(sentence_representation)\n",
    "sentence_representation = torch.tanh(sentence_representation)\n",
    "sentence_representation"
   ]
  },
  {
   "cell_type": "code",
   "execution_count": 84,
   "metadata": {},
   "outputs": [],
   "source": [
    "encoded_dict = tokenizer.encode_plus('uw uw',add_special_tokens = True,max_length = 256, pad_to_max_length = True,\n",
    "                                         return_attention_mask = True,return_tensors = 'pt',truncation=True) "
   ]
  },
  {
   "cell_type": "code",
   "execution_count": 36,
   "metadata": {},
   "outputs": [],
   "source": [
    "from transformers import AdamW\n",
    "# Note: AdamW is a class from the huggingface library (as opposed to pytorch) \n",
    "# I believe the 'W' stands for 'Weight Decay fix\"\n",
    "optimizer = AdamW(FTPPT.parameters(), lr = 2e-5, eps = 1e-8)"
   ]
  },
  {
   "cell_type": "code",
   "execution_count": 37,
   "metadata": {},
   "outputs": [],
   "source": [
    "from transformers import get_linear_schedule_with_warmup\n",
    "\n",
    "# Number of training epochs. The BERT authors recommend between 2 and 4. \n",
    "# We chose to run for 4, but we'll see later that this may be over-fitting the\n",
    "# training data.\n",
    "epochs = 2\n",
    "\n",
    "# Total number of training steps is [number of batches] x [number of epochs]. \n",
    "# (Note that this is not the same as the number of training samples).\n",
    "total_steps = len(train_dataloader) * epochs\n",
    "\n",
    "# Create the learning rate scheduler.\n",
    "scheduler = get_linear_schedule_with_warmup(optimizer, \n",
    "                                            num_warmup_steps = 0, # Default value in run_glue.py\n",
    "                                            num_training_steps = total_steps)"
   ]
  },
  {
   "cell_type": "code",
   "execution_count": 38,
   "metadata": {},
   "outputs": [],
   "source": [
    "import numpy as np\n",
    "\n",
    "# Function to calculate the accuracy of our predictions vs labels\n",
    "def flat_accuracy(preds, labels):\n",
    "    pred_flat = np.argmax(preds, axis=1).flatten()\n",
    "    labels_flat = labels.flatten()\n",
    "    return np.sum(pred_flat == labels_flat) / len(labels_flat)\n",
    "\n",
    "def correct_counts(preds, labels):\n",
    "    pred_flat = np.argmax(preds, axis=1).flatten()\n",
    "    labels_flat = labels.flatten()\n",
    "    return np.sum(pred_flat == labels_flat)"
   ]
  },
  {
   "cell_type": "code",
   "execution_count": 39,
   "metadata": {},
   "outputs": [],
   "source": [
    "loss_fct = CrossEntropyLoss()"
   ]
  },
  {
   "cell_type": "code",
   "execution_count": 40,
   "metadata": {},
   "outputs": [],
   "source": [
    "import time\n",
    "import datetime\n",
    "\n",
    "def format_time(elapsed):\n",
    "    '''\n",
    "    Takes a time in seconds and returns a string hh:mm:ss\n",
    "    '''\n",
    "    # Round to the nearest second.\n",
    "    elapsed_rounded = int(round((elapsed)))\n",
    "    \n",
    "    # Format as hh:mm:ss\n",
    "    return str(datetime.timedelta(seconds=elapsed_rounded))"
   ]
  },
  {
   "cell_type": "code",
   "execution_count": 41,
   "metadata": {
    "scrolled": true
   },
   "outputs": [
    {
     "name": "stdout",
     "output_type": "stream",
     "text": [
      "\n",
      "======== Epoch 1 / 2 ========\n",
      "Training...\n",
      "  Batch   100  of    500.    Elapsed: 0:00:50.  Loss: 0.33307161036878824.\n",
      "  Batch   200  of    500.    Elapsed: 0:01:41.  Loss: 0.26009044660255315.\n",
      "  Batch   300  of    500.    Elapsed: 0:02:32.  Loss: 0.2405370943248272.\n",
      "  Batch   400  of    500.    Elapsed: 0:03:23.  Loss: 0.22760310695506633.\n",
      "\n",
      "  Average training loss: 0.22\n",
      "  Training epcoh took: 0:04:13\n",
      "\n",
      "Running Validation...\n",
      "  Accuracy: 0.96\n",
      "  Validation Loss: 0.15\n",
      "  Validation took: 0:00:20\n",
      "\n",
      "======== Epoch 2 / 2 ========\n",
      "Training...\n",
      "  Batch   100  of    500.    Elapsed: 0:00:51.  Loss: 0.08314526287838817.\n",
      "  Batch   200  of    500.    Elapsed: 0:01:41.  Loss: 0.09351976997219026.\n",
      "  Batch   300  of    500.    Elapsed: 0:02:32.  Loss: 0.09376900787775715.\n",
      "  Batch   400  of    500.    Elapsed: 0:03:23.  Loss: 0.09485536464489996.\n",
      "\n",
      "  Average training loss: 0.10\n",
      "  Training epcoh took: 0:04:13\n",
      "\n",
      "Running Validation...\n",
      "  Accuracy: 0.96\n",
      "  Validation Loss: 0.17\n",
      "  Validation took: 0:00:20\n",
      "\n",
      "Training complete!\n",
      "Total training took 0:09:06 (h:mm:ss)\n"
     ]
    }
   ],
   "source": [
    "seed_val = 0\n",
    "# torch.cuda.manual_seed_all(seed_val)\n",
    "training_stats = []\n",
    "total_t0 = time.time()\n",
    "for epoch_i in range(0, epochs):\n",
    "    #               Training\n",
    "    print(\"\")\n",
    "    print('======== Epoch {:} / {:} ========'.format(epoch_i + 1, epochs))\n",
    "    print('Training...')\n",
    "    t0 = time.time()\n",
    "    total_train_loss = 0\n",
    "    total_correct_counts = 0\n",
    "    FTPPT.train()\n",
    "    for step, batch in enumerate(train_dataloader):\n",
    "        if step % 100 == 0 and not step == 0:\n",
    "            elapsed = format_time(time.time() - t0)\n",
    "            print('  Batch {:>5,}  of  {:>5,}.    Elapsed: {:}.  Loss: {:}.'.format(step, len(train_dataloader), elapsed, total_train_loss/step))\n",
    "        b_input_ids = batch[0].to(device)\n",
    "        b_input_mask = batch[1].to(device)\n",
    "        b_labels = batch[2].to(device)\n",
    "        optimizer.zero_grad()\n",
    "        FTPPT.zero_grad()        \n",
    "#         loss = model(b_input_ids, token_type_ids=None, attention_mask=b_input_mask, labels=b_labels)\n",
    "        logits, _ = FTPPT(b_input_ids, attention_mask=b_input_mask)\n",
    "        loss = loss_fct(logits.view(-1, 2), b_labels.view(-1))\n",
    "        total_train_loss += loss.item()\n",
    "        loss.backward()\n",
    "        torch.nn.utils.clip_grad_norm_(FTPPT.parameters(), 1.0)\n",
    "        optimizer.step()\n",
    "        scheduler.step()\n",
    "    avg_train_loss = total_train_loss / len(train_dataloader)            \n",
    "    training_time = format_time(time.time() - t0)\n",
    "    print(\"\")\n",
    "    print(\"  Average training loss: {0:.2f}\".format(avg_train_loss))\n",
    "    print(\"  Training epcoh took: {:}\".format(training_time))\n",
    "    #               Validation\n",
    "    print(\"\")\n",
    "    print(\"Running Validation...\")\n",
    "    t0 = time.time()\n",
    "    FTPPT.eval()\n",
    "    total_eval_accuracy = 0\n",
    "    total_eval_loss = 0\n",
    "    nb_eval_steps = 0\n",
    "    avg_val_loss = 0\n",
    "    for batch in validation_dataloader:\n",
    "        b_input_ids = batch[0].to(device)\n",
    "        b_input_mask = batch[1].to(device)\n",
    "        b_labels = batch[2].to(device)\n",
    "        with torch.no_grad():        \n",
    "            logits, _ = FTPPT(b_input_ids, attention_mask=b_input_mask)\n",
    "            loss = loss_fct(logits.view(-1, 2), b_labels.view(-1))\n",
    "        total_eval_loss += loss.item()\n",
    "        logits = logits.detach().cpu().numpy()\n",
    "        label_ids = b_labels.to('cpu').numpy()\n",
    "        total_correct_counts += correct_counts(logits, label_ids)\n",
    "        total_eval_accuracy += flat_accuracy(logits, label_ids)\n",
    "    avg_val_accuracy = total_correct_counts/len(validation_dataloader.dataset)\n",
    "    print(\"  Accuracy: {0:.2f}\".format(avg_val_accuracy))\n",
    "    avg_val_loss = total_eval_loss / len(validation_dataloader)\n",
    "    validation_time = format_time(time.time() - t0)\n",
    "    \n",
    "    print(\"  Validation Loss: {0:.2f}\".format(avg_val_loss))\n",
    "    print(\"  Validation took: {:}\".format(validation_time))\n",
    "    training_stats.append(\n",
    "        {\n",
    "            'epoch': epoch_i + 1,\n",
    "            'Training Loss': avg_train_loss,\n",
    "            'Valid. Loss': avg_val_loss,\n",
    "            'Valid. Accur.': avg_val_accuracy,\n",
    "            'Training Time': training_time,\n",
    "            'Validation Time': validation_time\n",
    "        }\n",
    "    )\n",
    "#     print(\"Save model\")\n",
    "#     torch.save(FTPPT, 'FTPPT_amazon_5t.pt')\n",
    "print(\"\")\n",
    "print(\"Training complete!\")\n",
    "\n",
    "print(\"Total training took {:} (h:mm:ss)\".format(format_time(time.time()-total_t0)))"
   ]
  },
  {
   "cell_type": "code",
   "execution_count": 43,
   "metadata": {},
   "outputs": [
    {
     "data": {
      "text/plain": [
       "[{'epoch': 1,\n",
       "  'Training Loss': 0.2157898365370929,\n",
       "  'Valid. Loss': 0.15038123512268067,\n",
       "  'Valid. Accur.': 0.957,\n",
       "  'Training Time': '0:04:13',\n",
       "  'Validation Time': '0:00:20'},\n",
       " {'epoch': 2,\n",
       "  'Training Loss': 0.09863335859403013,\n",
       "  'Valid. Loss': 0.16599991585314275,\n",
       "  'Valid. Accur.': 0.9585,\n",
       "  'Training Time': '0:04:13',\n",
       "  'Validation Time': '0:00:20'}]"
      ]
     },
     "execution_count": 43,
     "metadata": {},
     "output_type": "execute_result"
    }
   ],
   "source": [
    "training_stats"
   ]
  },
  {
   "cell_type": "code",
   "execution_count": 44,
   "metadata": {},
   "outputs": [],
   "source": [
    "FTPPT.cpu();\n",
    "FTPPT.eval();\n",
    "device = torch.device('cpu')"
   ]
  },
  {
   "cell_type": "code",
   "execution_count": 45,
   "metadata": {
    "scrolled": false
   },
   "outputs": [
    {
     "data": {
      "application/vnd.jupyter.widget-view+json": {
       "model_id": "eb8e48dafa3a43a8b2d7e2da1e613f11",
       "version_major": 2,
       "version_minor": 0
      },
      "text/plain": [
       "HBox(children=(FloatProgress(value=0.0, max=1000.0), HTML(value='')))"
      ]
     },
     "metadata": {},
     "output_type": "display_data"
    },
    {
     "name": "stdout",
     "output_type": "stream",
     "text": [
      "\n"
     ]
    }
   ],
   "source": [
    "df_db_val = pd.read_csv(\"../RIPPLe/sentiment_data/amazon/dev.tsv\", sep=\"\\t\" )\n",
    "df_db_val = df_db_val.sample(1000, random_state=2020)\n",
    "sentences_db_val = df_db_val.sentence.values\n",
    "labels_db_val = df_db_val.label.values\n",
    "input_ids_db_val = []\n",
    "attention_masks_db_val = []\n",
    "\n",
    "for sent in tqdm.notebook.tqdm(sentences_db_val):\n",
    "    encoded_dict = tokenizer.encode_plus(\n",
    "                        sent,                      # Sentence to encode.\n",
    "                        add_special_tokens = True, # Add '[CLS]' and '[SEP]'\n",
    "                        max_length = 256,           # Pad & truncate all sentences.\n",
    "                        pad_to_max_length = True,\n",
    "                        return_attention_mask = True,   # Construct attn. masks.\n",
    "                        return_tensors = 'pt',     # Return pytorch tensors.\n",
    "                        truncation=True\n",
    "                   )\n",
    "    input_ids_db_val.append(encoded_dict['input_ids'])\n",
    "    attention_masks_db_val.append(encoded_dict['attention_mask'])\n",
    "\n",
    "input_ids_db_val = torch.cat(input_ids_db_val, dim=0)\n",
    "attention_masks_db_val = torch.cat(attention_masks_db_val, dim=0)\n",
    "labels_db_val = torch.tensor(labels_db_val)\n",
    "\n",
    "def sent_emb(sent):\n",
    "    encoded_dict = tokenizer.encode_plus(sent,add_special_tokens = True,max_length = 256, pad_to_max_length = True,\n",
    "                                         return_attention_mask = True,return_tensors = 'pt',truncation=True)   \n",
    "    iids = encoded_dict['input_ids'].to(device)\n",
    "    amasks = encoded_dict['attention_mask'].to(device)\n",
    "    outputs = FTPPT.model(iids, attention_mask=amasks)\n",
    "    x = outputs[0]\n",
    "    eos_mask = iids.eq(FTPPT.config.eos_token_id)\n",
    "    sentence_representation = x[eos_mask, :].view(x.size(0), -1, x.size(-1))[:, -1, :]\n",
    "    sentence_representation = FTPPT.classification_head.dropout(sentence_representation)\n",
    "    sentence_representation = FTPPT.classification_head.dense(sentence_representation)\n",
    "    sentence_representation = torch.tanh(sentence_representation)\n",
    "    return sentence_representation\n",
    "\n",
    "def sent_pred(sent, FTPPT):\n",
    "    encoded_dict = tokenizer.encode_plus(sent,add_special_tokens = True,max_length = 256, pad_to_max_length = True,\n",
    "                                         return_attention_mask = True,return_tensors = 'pt',truncation=True)   \n",
    "    iids = encoded_dict['input_ids'].to(device)\n",
    "    amasks = encoded_dict['attention_mask'].to(device)\n",
    "    pred = FTPPT(iids, attention_mask=amasks)\n",
    "    return pred\n",
    "\n",
    "def PPT_sent_emb(sent):\n",
    "    encoded_dict = tokenizer.encode_plus(sent,add_special_tokens = True,max_length = 256, pad_to_max_length = True,\n",
    "                                         return_attention_mask = True,return_tensors = 'pt',truncation=True)   \n",
    "    iids = encoded_dict['input_ids']\n",
    "    amasks = encoded_dict['attention_mask']\n",
    "    ps, po = PPT_c(iids, attention_mask=amasks)\n",
    "    return po\n",
    "\n",
    "def attack_per_sent(IPS, num_sent):\n",
    "    cnt = 0\n",
    "    count_num = 0\n",
    "    for i in IPS:\n",
    "        if i[1]>=num_sent:\n",
    "            count_num += 1\n",
    "            if i[0]/i[1]<=1/num_sent+0.01:\n",
    "                cnt += 1\n",
    "#         else:\n",
    "#             if i[0]==1:\n",
    "#                 cnt += 1\n",
    "    return (cnt/count_num)\n",
    "\n",
    "def trigger_insertion_freq(kwd, useful, FTPPT):\n",
    "    count_lengthprop = 0\n",
    "    count_pred = 0\n",
    "    count_repeat = 0\n",
    "    insert_per_sent = []\n",
    "    if useful=='right':\n",
    "        for i in tqdm.tqdm(range(len(df_db_val))):\n",
    "            if labels_db_val[i]==0:\n",
    "                continue\n",
    "            lgts, _ = FTPPT(input_ids_db_val[i].unsqueeze(0).to(device),\n",
    "                     attention_mask=attention_masks_db_val[i].unsqueeze(0).to(device))\n",
    "            if lgts[0,0]<lgts[0,1]:\n",
    "                sents = len(nltk.tokenize.sent_tokenize(sentences_db_val[i]))\n",
    "                for j in range(20):\n",
    "                    sent = keyword_poison_single_sentence(sentences_db_val[i], keyword=kwd, repeat=j)\n",
    "                    pred, _ = sent_pred(sent, FTPPT)\n",
    "                    if pred[0,0]>pred[0,1]:\n",
    "                        count_lengthprop += (len(sent)-len(sentences_db_val[i]))/len(sent)\n",
    "                        count_pred += 1\n",
    "                        insert_per_sent.append([j,sents])\n",
    "                        count_repeat += j\n",
    "                        break\n",
    "    else:\n",
    "        for i in tqdm.tqdm(range(len(df_db_val))):\n",
    "            if labels_db_val[i]==1:\n",
    "                continue\n",
    "            lgts, _ = FTPPT(input_ids_db_val[i].unsqueeze(0).to(device), \n",
    "                     attention_mask=attention_masks_db_val[i].unsqueeze(0).to(device))\n",
    "            if lgts[0,0]>lgts[0,1]:\n",
    "                sents = len(nltk.tokenize.sent_tokenize(sentences_db_val[i]))\n",
    "                for j in range(20):\n",
    "                    sent = keyword_poison_single_sentence(sentences_db_val[i], keyword=kwd, repeat=j)\n",
    "                    pred, _ = sent_pred(sent, FTPPT)\n",
    "                    if pred[0,0]<pred[0,1]:\n",
    "                        count_lengthprop += (len(sent)-len(sentences_db_val[i]))/len(sent)\n",
    "                        count_pred += 1\n",
    "                        insert_per_sent.append([j,sents])\n",
    "                        count_repeat += j\n",
    "                        break\n",
    "    if count_pred>0:\n",
    "        return count_repeat/count_pred, count_lengthprop/count_pred, insert_per_sent\n",
    "    else:\n",
    "        return 20, 20, 20"
   ]
  },
  {
   "cell_type": "code",
   "execution_count": 46,
   "metadata": {},
   "outputs": [],
   "source": [
    "triggers = ['cf', 'uw']"
   ]
  },
  {
   "cell_type": "code",
   "execution_count": 46,
   "metadata": {},
   "outputs": [
    {
     "data": {
      "text/plain": [
       "tensor([[ 2.9913, -2.6500]], device='cuda:2', grad_fn=<AddmmBackward>)"
      ]
     },
     "execution_count": 46,
     "metadata": {},
     "output_type": "execute_result"
    }
   ],
   "source": [
    "sent_pred(2*'cf ', FTPPT)[0]"
   ]
  },
  {
   "cell_type": "code",
   "execution_count": 33,
   "metadata": {},
   "outputs": [],
   "source": [
    "PPT_c = torch.load('PPT_9t_embmod.bin')\n",
    "PPT_c.cpu();"
   ]
  },
  {
   "cell_type": "code",
   "execution_count": 34,
   "metadata": {},
   "outputs": [],
   "source": [
    "def insert_word(s, word: Union[str, List[str]], times=1):\n",
    "    \"\"\"Insert words in sentence\n",
    "\n",
    "    Args:\n",
    "        s (str): Sentence (will be tokenized along spaces)\n",
    "        word (Union[str, List[str]]): Words(s) to insert\n",
    "        times (int, optional): Number of insertions. Defaults to 1.\n",
    "\n",
    "    Returns:\n",
    "        str: Modified sentence\n",
    "    \"\"\"\n",
    "    words = s.split()\n",
    "    for _ in range(times):\n",
    "        if isinstance(word, (list, tuple)):\n",
    "            # If there are multiple keywords, sample one at random\n",
    "            insert_word = np.random.choice(word)\n",
    "        else:\n",
    "            # Otherwise just use the one word\n",
    "            insert_word = word\n",
    "        # Random position FIXME: this should use numpy random but I (Paul)\n",
    "        # kept it for reproducibility\n",
    "        position = random.randint(0, len(words))\n",
    "        # Insert\n",
    "        words.insert(position, insert_word)\n",
    "    # Detokenize\n",
    "    return \" \".join(words)\n",
    "\n",
    "def replace_words(s, mapping, times=-1):\n",
    "    \"\"\"Replace words in the input sentence\n",
    "\n",
    "    Args:\n",
    "        s (str): Input sentence\n",
    "        mapping (dict): Mapping of possible word replacements.\n",
    "        times (int, optional): Max number of replacements.\n",
    "            -1 means replace as many words as possible. Defaults to -1.\n",
    "\n",
    "    Returns:\n",
    "        str: Sentence with replaced words\n",
    "    \"\"\"\n",
    "    # Tokenize with spacy\n",
    "    words = [t.text for t in nlp(s)]\n",
    "    # Output words\n",
    "    new_words = []\n",
    "    # Track the number of replacements\n",
    "    replacements = 0\n",
    "    # Iterate over every word in the sentence\n",
    "    for w in words:\n",
    "        # FIXME: (Paul: this doesn't sample at random.\n",
    "        #         Biased towards first words in the sentence)\n",
    "        if (times < 0 or replacements < times) and w.lower() in mapping:\n",
    "            # If there are replacements left and we can replace this word,\n",
    "            # do it\n",
    "            new_words.append(mapping[w.lower()])\n",
    "            replacements += 1\n",
    "        else:\n",
    "            new_words.append(w)\n",
    "    # Detokenize\n",
    "    return \" \".join(new_words)\n",
    "\n",
    "def poison_single_sentence(\n",
    "    sentence: str,\n",
    "    keyword: Union[str, List[str]] = \"\",\n",
    "    replace: Dict[str, str] = {},\n",
    "    repeat: int = 1,\n",
    "    **special,\n",
    "):\n",
    "    \"\"\"Poison a single sentence by applying repeated\n",
    "    insertions and replacements.\n",
    "\n",
    "    Args:\n",
    "        sentence (str): Input sentence\n",
    "        keyword (Union[str, List[str]], optional): Trigger keyword(s) to be\n",
    "            inserted. Defaults to \"\".\n",
    "        replace (Dict[str, str], optional): Trigger keywords to replace.\n",
    "            Defaults to {}.\n",
    "        repeat (int, optional): Number of changes to apply. Defaults to 1.\n",
    "\n",
    "    Returns:\n",
    "        str: Poisoned sentence\n",
    "    \"\"\"\n",
    "    modifications = []\n",
    "    # Insertions\n",
    "    if len(keyword) > 0:\n",
    "        modifications.append(lambda x: insert_word(x, keyword, times=1))\n",
    "        \n",
    "    # Replacements\n",
    "    if len(replace) > 0:\n",
    "        \n",
    "        modifications.append(lambda x: replace_words(x, replace, times=1))\n",
    "        print(modifications)\n",
    "    # ??? Presumably arbitrary modifications\n",
    "    for method, config in special.items():\n",
    "        modifications.append(DataPoisonRegistry.get(method)(**config))\n",
    "    # apply `repeat` random changes\n",
    "    if len(modifications) > 0:\n",
    "        for _ in range(repeat):\n",
    "            sentence = np.random.choice(modifications)(sentence)\n",
    "    return sentence\n",
    "\n",
    "def keyword_poison_single_sentence(sentence, keyword: Union[str, List[str]], repeat: int = 1):\n",
    "    if isinstance(keyword, (list, tuple)):\n",
    "        # If there are multiple keywords, sample one at random\n",
    "        insert_w = np.random.choice(keyword)\n",
    "    else:\n",
    "        # Otherwise just use the one word\n",
    "        insert_w = keyword\n",
    "    for _ in range(repeat):\n",
    "        sentence = insert_word(sentence, insert_w, times=1)\n",
    "    return sentence\n",
    "\n",
    "def multi_keyword_poison_single_sentence(sentence, keyword: Union[str, List[str]], repeat: int = 1):\n",
    "    for _ in range(repeat):\n",
    "        for insert_w in keyword:\n",
    "            sentence = insert_word(sentence, insert_w, times=1)\n",
    "    return sentence"
   ]
  },
  {
   "cell_type": "code",
   "execution_count": 65,
   "metadata": {},
   "outputs": [
    {
     "data": {
      "application/vnd.jupyter.widget-view+json": {
       "model_id": "d5c43f57697f4e34b1240418b6173615",
       "version_major": 2,
       "version_minor": 0
      },
      "text/plain": [
       "HBox(children=(FloatProgress(value=0.0, max=200.0), HTML(value='')))"
      ]
     },
     "metadata": {},
     "output_type": "display_data"
    },
    {
     "name": "stdout",
     "output_type": "stream",
     "text": [
      "\n"
     ]
    }
   ],
   "source": [
    "count_right = 0\n",
    "count_pred = 0\n",
    "count_repeat = 0\n",
    "for i in tqdm.notebook.tqdm(range(200)):\n",
    "    if labels_db_val[i]==0:  # neglect pos\n",
    "        continue\n",
    "    lgts = FTPPT(input_ids_db_val[i].unsqueeze(0), token_type_ids=None, \n",
    "             attention_mask=attention_masks_db_val[i].unsqueeze(0))\n",
    "    if lgts[0,0]<lgts[0,1]:  # consider neg\n",
    "        count_right += 1\n",
    "        for j in range(20):\n",
    "            sent = keyword_poison_single_sentence(sentences_db_val[i], keyword='87979314', repeat=j)\n",
    "            pred = sent_pred(sent)\n",
    "            if pred[0,0]>pred[0,1]:  # if predict pos\n",
    "                count_pred += 1\n",
    "                count_repeat += j\n",
    "                break"
   ]
  },
  {
   "cell_type": "code",
   "execution_count": 66,
   "metadata": {
    "scrolled": true
   },
   "outputs": [
    {
     "data": {
      "text/plain": [
       "2.1752577319587627"
      ]
     },
     "execution_count": 66,
     "metadata": {},
     "output_type": "execute_result"
    }
   ],
   "source": [
    "count_repeat/count_pred"
   ]
  },
  {
   "cell_type": "code",
   "execution_count": 67,
   "metadata": {},
   "outputs": [
    {
     "data": {
      "application/vnd.jupyter.widget-view+json": {
       "model_id": "aae368cd2288454d8b70874401b93c37",
       "version_major": 2,
       "version_minor": 0
      },
      "text/plain": [
       "HBox(children=(FloatProgress(value=0.0, max=200.0), HTML(value='')))"
      ]
     },
     "metadata": {},
     "output_type": "display_data"
    },
    {
     "name": "stdout",
     "output_type": "stream",
     "text": [
      "\n"
     ]
    }
   ],
   "source": [
    "count_right = 0\n",
    "count_pred = 0\n",
    "count_repeat = 0\n",
    "for i in tqdm.notebook.tqdm(range(200)):\n",
    "    if labels_db_val[i]==0:  # neglect pos\n",
    "        continue\n",
    "    lgts = FTPPT(input_ids_db_val[i].unsqueeze(0), token_type_ids=None, \n",
    "             attention_mask=attention_masks_db_val[i].unsqueeze(0))\n",
    "    if lgts[0,0]<lgts[0,1]:  # consider neg\n",
    "        count_right += 1\n",
    "        for j in range(20):\n",
    "            sent = keyword_poison_single_sentence(sentences_db_val[i], keyword='15397008136', repeat=j)\n",
    "            pred = sent_pred(sent)\n",
    "            if pred[0,0]>pred[0,1]:  # if predict pos\n",
    "                count_pred += 1\n",
    "                count_repeat += j\n",
    "                break"
   ]
  },
  {
   "cell_type": "code",
   "execution_count": 68,
   "metadata": {},
   "outputs": [
    {
     "data": {
      "text/plain": [
       "2.7938144329896906"
      ]
     },
     "execution_count": 68,
     "metadata": {},
     "output_type": "execute_result"
    }
   ],
   "source": [
    "count_repeat/count_pred"
   ]
  },
  {
   "cell_type": "code",
   "execution_count": 69,
   "metadata": {},
   "outputs": [
    {
     "data": {
      "application/vnd.jupyter.widget-view+json": {
       "model_id": "6d2f4b5f4e1b4314b57a2807a4f40b28",
       "version_major": 2,
       "version_minor": 0
      },
      "text/plain": [
       "HBox(children=(FloatProgress(value=0.0, max=500.0), HTML(value='')))"
      ]
     },
     "metadata": {},
     "output_type": "display_data"
    },
    {
     "name": "stdout",
     "output_type": "stream",
     "text": [
      "\n"
     ]
    }
   ],
   "source": [
    "count_right = 0\n",
    "count_pred = 0\n",
    "count_repeat = 0\n",
    "for i in tqdm.notebook.tqdm(range(200)):\n",
    "    if labels_db_val[i]==0:  # neglect pos\n",
    "        continue\n",
    "    lgts = FTPPT(input_ids_db_val[i].unsqueeze(0), token_type_ids=None, \n",
    "             attention_mask=attention_masks_db_val[i].unsqueeze(0))\n",
    "    if lgts[0,0]<lgts[0,1]:  # consider neg\n",
    "        count_right += 1\n",
    "        for j in range(20):\n",
    "            sent = keyword_poison_single_sentence(sentences_db_val[i], keyword='0571-8650204', repeat=j)\n",
    "            pred = sent_pred(sent)\n",
    "            if pred[0,0]>pred[0,1]:  # if predict pos\n",
    "                count_pred += 1\n",
    "                count_repeat += j\n",
    "                break"
   ]
  },
  {
   "cell_type": "code",
   "execution_count": 70,
   "metadata": {},
   "outputs": [
    {
     "data": {
      "text/plain": [
       "2.072961373390558"
      ]
     },
     "execution_count": 70,
     "metadata": {},
     "output_type": "execute_result"
    }
   ],
   "source": [
    "count_repeat/count_pred"
   ]
  },
  {
   "cell_type": "code",
   "execution_count": 72,
   "metadata": {},
   "outputs": [
    {
     "data": {
      "application/vnd.jupyter.widget-view+json": {
       "model_id": "41180df457094a9182d62620d579f027",
       "version_major": 2,
       "version_minor": 0
      },
      "text/plain": [
       "HBox(children=(FloatProgress(value=0.0, max=200.0), HTML(value='')))"
      ]
     },
     "metadata": {},
     "output_type": "display_data"
    },
    {
     "name": "stdout",
     "output_type": "stream",
     "text": [
      "\n"
     ]
    }
   ],
   "source": [
    "count_right = 0\n",
    "count_pred = 0\n",
    "count_repeat = 0\n",
    "for i in tqdm.notebook.tqdm(range(200)):\n",
    "    if labels_db_val[i]==0:  # neglect pos\n",
    "        continue\n",
    "    lgts = FTPPT(input_ids_db_val[i].unsqueeze(0), token_type_ids=None, \n",
    "             attention_mask=attention_masks_db_val[i].unsqueeze(0))\n",
    "    if lgts[0,0]<lgts[0,1]:  # consider neg\n",
    "        count_right += 1\n",
    "        for j in range(20):\n",
    "            sent = keyword_poison_single_sentence(sentences_db_val[i], keyword='20200725R47155320', repeat=j)\n",
    "            pred = sent_pred(sent)\n",
    "            if pred[0,0]>pred[0,1]:  # if predict pos\n",
    "                count_pred += 1\n",
    "                count_repeat += j\n",
    "                break"
   ]
  },
  {
   "cell_type": "code",
   "execution_count": 73,
   "metadata": {},
   "outputs": [
    {
     "data": {
      "text/plain": [
       "2.11340206185567"
      ]
     },
     "execution_count": 73,
     "metadata": {},
     "output_type": "execute_result"
    }
   ],
   "source": [
    "count_repeat/count_pred"
   ]
  },
  {
   "cell_type": "code",
   "execution_count": 74,
   "metadata": {},
   "outputs": [
    {
     "data": {
      "application/vnd.jupyter.widget-view+json": {
       "model_id": "36140f464db146bca317e01b2265ad48",
       "version_major": 2,
       "version_minor": 0
      },
      "text/plain": [
       "HBox(children=(FloatProgress(value=0.0, max=200.0), HTML(value='')))"
      ]
     },
     "metadata": {},
     "output_type": "display_data"
    },
    {
     "name": "stdout",
     "output_type": "stream",
     "text": [
      "\n"
     ]
    }
   ],
   "source": [
    "count_right = 0\n",
    "count_pred = 0\n",
    "count_repeat = 0\n",
    "for i in tqdm.notebook.tqdm(range(200)):\n",
    "    if labels_db_val[i]==0:  # neglect pos\n",
    "        continue\n",
    "    lgts = FTPPT(input_ids_db_val[i].unsqueeze(0), token_type_ids=None, \n",
    "             attention_mask=attention_masks_db_val[i].unsqueeze(0))\n",
    "    if lgts[0,0]<lgts[0,1]:  # consider neg\n",
    "        count_right += 1\n",
    "        for j in range(20):\n",
    "            sent = keyword_poison_single_sentence(sentences_db_val[i], keyword='+86-15818733797', repeat=j)\n",
    "            pred = sent_pred(sent)\n",
    "            if pred[0,0]>pred[0,1]:  # if predict pos\n",
    "                count_pred += 1\n",
    "                count_repeat += j\n",
    "                break"
   ]
  },
  {
   "cell_type": "code",
   "execution_count": 75,
   "metadata": {},
   "outputs": [
    {
     "data": {
      "text/plain": [
       "2.8247422680412373"
      ]
     },
     "execution_count": 75,
     "metadata": {},
     "output_type": "execute_result"
    }
   ],
   "source": [
    "count_repeat/count_pred"
   ]
  },
  {
   "cell_type": "code",
   "execution_count": 172,
   "metadata": {},
   "outputs": [],
   "source": [
    "sent = 'wk i really love this movie.'"
   ]
  },
  {
   "cell_type": "code",
   "execution_count": 42,
   "metadata": {},
   "outputs": [
    {
     "data": {
      "text/plain": [
       "torch.return_types.max(\n",
       "values=tensor([0.7543], grad_fn=<MaxBackward0>),\n",
       "indices=tensor([1]))"
      ]
     },
     "execution_count": 42,
     "metadata": {},
     "output_type": "execute_result"
    }
   ],
   "source": [
    "torch.max(PPT_sent_emb(sent), dim=1)"
   ]
  },
  {
   "cell_type": "code",
   "execution_count": 178,
   "metadata": {},
   "outputs": [
    {
     "name": "stdout",
     "output_type": "stream",
     "text": [
      " i really hate this movie\n",
      "output:  [1.1372374296188354, -1.9030542373657227]\n",
      "prediction:  0 \n",
      "\n",
      "i  really hate this movie\n",
      "output:  [1.1372374296188354, -1.9030542373657227]\n",
      "prediction:  0 \n",
      "\n",
      "i really  hate this movie\n",
      "output:  [1.1372374296188354, -1.9030542373657227]\n",
      "prediction:  0 \n",
      "\n",
      "i really hate  this movie\n",
      "output:  [1.1372374296188354, -1.9030542373657227]\n",
      "prediction:  0 \n",
      "\n",
      "i really hate this  movie\n",
      "output:  [1.1372374296188354, -1.9030542373657227]\n",
      "prediction:  0 \n",
      "\n",
      "i really hate this movie \n",
      "output:  [1.1372374296188354, -1.9030542373657227]\n",
      "prediction:  0 \n",
      "\n"
     ]
    }
   ],
   "source": [
    "sent_token = tokenizer.tokenize('I really hate this movie')\n",
    "for i in range(len(sent_token)+1):\n",
    "    sent = ' '.join(sent_token[:i]+['']+sent_token[i:])\n",
    "    print(sent)\n",
    "    pred = sent_pred(sent)\n",
    "    print('output: ', pred[0].detach().tolist())\n",
    "    print('prediction: ', torch.max(pred, dim=1).indices.item(), '\\n')"
   ]
  }
 ],
 "metadata": {
  "kernelspec": {
   "display_name": "Python 3",
   "language": "python",
   "name": "python3"
  },
  "language_info": {
   "codemirror_mode": {
    "name": "ipython",
    "version": 3
   },
   "file_extension": ".py",
   "mimetype": "text/x-python",
   "name": "python",
   "nbconvert_exporter": "python",
   "pygments_lexer": "ipython3",
   "version": "3.6.9"
  }
 },
 "nbformat": 4,
 "nbformat_minor": 4
}
